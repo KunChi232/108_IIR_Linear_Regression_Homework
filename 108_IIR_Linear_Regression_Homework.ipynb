{
 "cells": [
  {
   "cell_type": "code",
   "execution_count": 3,
   "metadata": {},
   "outputs": [
    {
     "name": "stdout",
     "output_type": "stream",
     "text": [
      "[3.1583173] [2.20541374]\n"
     ]
    },
    {
     "data": {
      "image/png": "[encoded data removed]",
      "text/plain": [
       "<Figure size 432x288 with 1 Axes>"
      ]
     },
     "metadata": {
      "needs_background": "light"
     },
     "output_type": "display_data"
    }
   ],
   "source": [
    "import numpy as np\n",
    "import math\n",
    "import matplotlib.pyplot as plt\n",
    "%matplotlib inline\n",
    "lr = 0.01\n",
    "epoch = 200\n",
    "fig = plt.figure()\n",
    "ax = fig.add_subplot(111)\n",
    "def create_data(a, b, low, height,size):\n",
    "    x = np.random.randint(low, height, size =size)\n",
    "    y = a * x + b\n",
    "    ax.scatter(x, y)\n",
    "    ax.plot(x,y)\n",
    "    seed = np.random.randint(low, height, 10)\n",
    "    noise_x = x[seed]\n",
    "    noise_y = y[seed] + np.random.randn(1,10)[0] * 5\n",
    "    ax.scatter(noise_x, noise_y, color = 'red')\n",
    "    train_data_x = np.concatenate((x, noise_x))\n",
    "    train_data_y = np.concatenate((y, noise_y))\n",
    "    seed = np.arange(train_data_x.shape[0])\n",
    "    np.random.shuffle(seed)\n",
    "    train_data_x[seed]\n",
    "    train_data_y[seed]\n",
    "    return train_data_x, train_data_y\n",
    "def gradient_descent(x, y, w, b):\n",
    "    temp1 = 0\n",
    "    temp2 = 0\n",
    "    for i in range(x.size):\n",
    "        temp1  = temp1 + (w * x[i] + b - y[i])*x[i]\n",
    "        temp2  = temp2 + (w * x[i] + b - y[i])\n",
    "    w = w - lr * temp1 / x.size\n",
    "    b = b - lr * temp2 / x.size\n",
    "    return w, b\n",
    "def regression(a, b):\n",
    "    W = np.random.random(1)\n",
    "    B = np.random.random(1)\n",
    "    x, y = create_data(a, b, 0 ,20 ,50)\n",
    "    for i in range(epoch):\n",
    "        W , B = gradient_descent(x, y, W, B)\n",
    "    \n",
    "    ax.plot(x, W*x+B, color = 'green')\n",
    "    return W, B\n",
    "\n",
    "def main():\n",
    "    w, b = regression(3 ,4)\n",
    "    print(w, b)\n",
    "\n",
    "if __name__  == \"__main__\":\n",
    "    main()\n",
    "\n"
   ]
  },
  {
   "cell_type": "code",
   "execution_count": null,
   "metadata": {},
   "outputs": [],
   "source": []
  }
 ],
 "metadata": {
  "kernelspec": {
   "display_name": "Python 3",
   "language": "python",
   "name": "python3"
  },
  "language_info": {
   "codemirror_mode": {
    "name": "ipython",
    "version": 3
   },
   "file_extension": ".py",
   "mimetype": "text/x-python",
   "name": "python",
   "nbconvert_exporter": "python",
   "pygments_lexer": "ipython3",
   "version": "3.6.8"
  }
 },
 "nbformat": 4,
 "nbformat_minor": 2
}
